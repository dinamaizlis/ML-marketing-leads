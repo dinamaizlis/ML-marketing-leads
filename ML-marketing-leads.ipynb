{
 "cells": [
  {
   "cell_type": "code",
   "execution_count": 1,
   "id": "3a9749bf",
   "metadata": {},
   "outputs": [],
   "source": [
    "import pandas as pd\n",
    "import sys\n",
    "import seaborn as sns "
   ]
  },
  {
   "cell_type": "code",
   "execution_count": 2,
   "id": "9a4fd98c",
   "metadata": {},
   "outputs": [],
   "source": [
    "df = pd.read_csv('/Users/dinamaizlis/Downloads/Marketing_Leads_India.csv')"
   ]
  },
  {
   "cell_type": "markdown",
   "id": "020686ca",
   "metadata": {},
   "source": [
    "Lead Number - מזהה id\n",
    "Lead Origin - מאיפה המשתמש\n",
    "Lead Source - מקור המשתמש     \n",
    "Do Not Email - איימיל\n",
    "Do Not Call - מספר\n",
    "Converted                                           0\n",
    "TotalVisits- מספר ביקושים\n",
    "Total Time Spent on Website- כמה זמן ביקר באתר\n",
    "Page Views Per Visit - מספר צפיות לכל ביקור\n",
    "Last Activity  - פעילות אחרונה\n",
    "Country - מדינה\n",
    "Specialization - התמחות\n",
    "How did you hear about X Education - מאיפה שמעת על החינוך\n",
    "What is your current occupation - מהו עיסוכך הנוכחי\n",
    "What matters most to you in choosing a course- מה הכי חשוב לך בבחירת קרירה\n",
    "Search - חיפוש\n",
    "Magazine - מגזין\n",
    "Newspaper Article - מאמר בעיתון\n",
    "X Education Forums - פורום חינוכי\n",
    "Newspaper - עיתון\n",
    "Digital Advertisement - פירסומת דיגיטלית\n",
    "Through Recommendations - מהמלצות\n",
    "Receive More Updates About Our Courses              0\n",
    "Tags                                                0\n",
    "Lead Quality                                        0\n",
    "Update me on Supply Chain Content - עידכן לגבי תוכן ההספקה\n",
    "Get updates on DM Content - קיבל עדכונים ה dm\n",
    "Lead Profile - פרופיל\n",
    "City - עיר\n",
    "Asymmetrique Activity Index - מדד פעילות אסימטרית\n",
    "Asymmetrique Profile Index - מדד פרופיל אסימטרי\n",
    "Asymmetrique Activity Score - ציון פעילות אסמטרי\n",
    "Asymmetrique Profile Score - ציון פרופיל אסמטרי\n",
    "I agree to pay the amount through cheque - מסכים לשלם באמצעות צאק\n",
    "A free copy of Mastering The Interview - עותק של ראיון בחינם\n",
    "Last Notable Activity - פעילות בולטת לאחרונה"
   ]
  },
  {
   "cell_type": "code",
   "execution_count": 3,
   "id": "238957c0",
   "metadata": {},
   "outputs": [
    {
     "data": {
      "text/plain": [
       "(9240, 36)"
      ]
     },
     "execution_count": 3,
     "metadata": {},
     "output_type": "execute_result"
    }
   ],
   "source": [
    "df.shape"
   ]
  },
  {
   "cell_type": "code",
   "execution_count": 4,
   "id": "e6335baa",
   "metadata": {},
   "outputs": [
    {
     "name": "stdout",
     "output_type": "stream",
     "text": [
      "<class 'pandas.core.frame.DataFrame'>\n",
      "RangeIndex: 9240 entries, 0 to 9239\n",
      "Data columns (total 36 columns):\n",
      " #   Column                                         Non-Null Count  Dtype  \n",
      "---  ------                                         --------------  -----  \n",
      " 0   Lead Number                                    9240 non-null   int64  \n",
      " 1   Lead Origin                                    9240 non-null   object \n",
      " 2   Lead Source                                    9204 non-null   object \n",
      " 3   Do Not Email                                   9240 non-null   object \n",
      " 4   Do Not Call                                    9240 non-null   object \n",
      " 5   Converted                                      9240 non-null   int64  \n",
      " 6   TotalVisits                                    9103 non-null   float64\n",
      " 7   Total Time Spent on Website                    9240 non-null   int64  \n",
      " 8   Page Views Per Visit                           9103 non-null   float64\n",
      " 9   Last Activity                                  9137 non-null   object \n",
      " 10  Country                                        9240 non-null   object \n",
      " 11  Specialization                                 9240 non-null   object \n",
      " 12  How did you hear about X Education             1990 non-null   object \n",
      " 13  What is your current occupation                9240 non-null   object \n",
      " 14  What matters most to you in choosing a course  6531 non-null   object \n",
      " 15  Search                                         9240 non-null   object \n",
      " 16  Magazine                                       9240 non-null   object \n",
      " 17  Newspaper Article                              9240 non-null   object \n",
      " 18  X Education Forums                             9240 non-null   object \n",
      " 19  Newspaper                                      9240 non-null   object \n",
      " 20  Digital Advertisement                          9240 non-null   object \n",
      " 21  Through Recommendations                        9240 non-null   object \n",
      " 22  Receive More Updates About Our Courses         9240 non-null   object \n",
      " 23  Tags                                           9240 non-null   object \n",
      " 24  Lead Quality                                   9240 non-null   object \n",
      " 25  Update me on Supply Chain Content              9240 non-null   object \n",
      " 26  Get updates on DM Content                      9240 non-null   object \n",
      " 27  Lead Profile                                   2385 non-null   object \n",
      " 28  City                                           5571 non-null   object \n",
      " 29  Asymmetrique Activity Index                    5022 non-null   object \n",
      " 30  Asymmetrique Profile Index                     5022 non-null   object \n",
      " 31  Asymmetrique Activity Score                    5022 non-null   float64\n",
      " 32  Asymmetrique Profile Score                     5022 non-null   float64\n",
      " 33  I agree to pay the amount through cheque       9240 non-null   object \n",
      " 34  A free copy of Mastering The Interview         9240 non-null   object \n",
      " 35  Last Notable Activity                          9240 non-null   object \n",
      "dtypes: float64(4), int64(3), object(29)\n",
      "memory usage: 2.5+ MB\n"
     ]
    }
   ],
   "source": [
    "df.info()"
   ]
  },
  {
   "cell_type": "code",
   "execution_count": 5,
   "id": "d8a0564b",
   "metadata": {},
   "outputs": [
    {
     "data": {
      "text/plain": [
       "False"
      ]
     },
     "execution_count": 5,
     "metadata": {},
     "output_type": "execute_result"
    }
   ],
   "source": [
    "df.duplicated().any()"
   ]
  },
  {
   "cell_type": "markdown",
   "id": "4cee6c8a",
   "metadata": {},
   "source": [
    "## Data Cleaning"
   ]
  },
  {
   "cell_type": "code",
   "execution_count": 6,
   "id": "5a269920",
   "metadata": {},
   "outputs": [
    {
     "data": {
      "text/plain": [
       "<AxesSubplot:>"
      ]
     },
     "execution_count": 6,
     "metadata": {},
     "output_type": "execute_result"
    },
    {
     "data": {
      "image/png": "[encoded data removed]",
      "text/plain": [
       "<Figure size 640x480 with 2 Axes>"
      ]
     },
     "metadata": {},
     "output_type": "display_data"
    }
   ],
   "source": [
    "sns.heatmap(df.isnull(), yticklabels = False, cmap = 'viridis')"
   ]
  },
  {
   "cell_type": "code",
   "execution_count": 7,
   "id": "778fcbe8",
   "metadata": {},
   "outputs": [
    {
     "data": {
      "text/plain": [
       "Lead Number                                       0.00\n",
       "Lead Origin                                       0.00\n",
       "Lead Source                                       0.39\n",
       "Do Not Email                                      0.00\n",
       "Do Not Call                                       0.00\n",
       "Converted                                         0.00\n",
       "TotalVisits                                       1.48\n",
       "Total Time Spent on Website                       0.00\n",
       "Page Views Per Visit                              1.48\n",
       "Last Activity                                     1.11\n",
       "Country                                           0.00\n",
       "Specialization                                    0.00\n",
       "How did you hear about X Education               78.46\n",
       "What is your current occupation                   0.00\n",
       "What matters most to you in choosing a course    29.32\n",
       "Search                                            0.00\n",
       "Magazine                                          0.00\n",
       "Newspaper Article                                 0.00\n",
       "X Education Forums                                0.00\n",
       "Newspaper                                         0.00\n",
       "Digital Advertisement                             0.00\n",
       "Through Recommendations                           0.00\n",
       "Receive More Updates About Our Courses            0.00\n",
       "Tags                                              0.00\n",
       "Lead Quality                                      0.00\n",
       "Update me on Supply Chain Content                 0.00\n",
       "Get updates on DM Content                         0.00\n",
       "Lead Profile                                     74.19\n",
       "City                                             39.71\n",
       "Asymmetrique Activity Index                      45.65\n",
       "Asymmetrique Profile Index                       45.65\n",
       "Asymmetrique Activity Score                      45.65\n",
       "Asymmetrique Profile Score                       45.65\n",
       "I agree to pay the amount through cheque          0.00\n",
       "A free copy of Mastering The Interview            0.00\n",
       "Last Notable Activity                             0.00\n",
       "dtype: float64"
      ]
     },
     "execution_count": 7,
     "metadata": {},
     "output_type": "execute_result"
    }
   ],
   "source": [
    "round((df.isnull().sum()/df.shape[0]*100), 2)"
   ]
  },
  {
   "cell_type": "code",
   "execution_count": 8,
   "id": "f841386f",
   "metadata": {},
   "outputs": [],
   "source": [
    "#gives percentage of null in every column\n",
    "null_percentage = df.isnull().sum()/df.shape[0]*100\n",
    "\n",
    "#gives list of columns having more than 60% null\n",
    "col_to_drop = null_percentage[null_percentage>40].keys()\n",
    "\n",
    "df = df.drop(col_to_drop, axis=1)\n",
    "\n",
    "\n",
    "#col_to_drop =['How did you hear about X Education', 'Lead Profile','Asymmetrique Activity Index',\n",
    "#'Asymmetrique Profile Index','Asymmetrique Activity Score', 'Asymmetrique Profile Score']"
   ]
  },
  {
   "cell_type": "markdown",
   "id": "4026ac28",
   "metadata": {},
   "source": [
    "Lead Number"
   ]
  },
  {
   "cell_type": "code",
   "execution_count": 9,
   "id": "25897994",
   "metadata": {},
   "outputs": [
    {
     "data": {
      "text/plain": [
       "True"
      ]
     },
     "execution_count": 9,
     "metadata": {},
     "output_type": "execute_result"
    }
   ],
   "source": [
    "df[\"Lead Number\"].is_unique\n",
    "#.describe()"
   ]
  },
  {
   "cell_type": "markdown",
   "id": "d56c5d70",
   "metadata": {},
   "source": [
    "Lead Origin"
   ]
  },
  {
   "cell_type": "code",
   "execution_count": 10,
   "id": "d8a25773",
   "metadata": {},
   "outputs": [
    {
     "data": {
      "text/plain": [
       "count                        9240\n",
       "unique                          5\n",
       "top       Landing Page Submission\n",
       "freq                         4886\n",
       "Name: Lead Origin, dtype: object"
      ]
     },
     "execution_count": 10,
     "metadata": {},
     "output_type": "execute_result"
    }
   ],
   "source": [
    "df[\"Lead Origin\"].describe()\n",
    "\n",
    "#df[\"status\"].value_counts()"
   ]
  },
  {
   "cell_type": "markdown",
   "id": "27058430",
   "metadata": {},
   "source": [
    "Lead Source"
   ]
  },
  {
   "cell_type": "code",
   "execution_count": 11,
   "id": "d5f003cf",
   "metadata": {},
   "outputs": [
    {
     "data": {
      "text/plain": [
       "count       9204\n",
       "unique        21\n",
       "top       Google\n",
       "freq        2868\n",
       "Name: Lead Source, dtype: object"
      ]
     },
     "execution_count": 11,
     "metadata": {},
     "output_type": "execute_result"
    }
   ],
   "source": [
    "df[\"Lead Source\"].describe()"
   ]
  },
  {
   "cell_type": "code",
   "execution_count": 12,
   "id": "1bbe023d",
   "metadata": {},
   "outputs": [],
   "source": [
    "#imputing most frequent level\n",
    "df[\"Lead Source\"].fillna(\"Google\", inplace = True)"
   ]
  },
  {
   "cell_type": "markdown",
   "id": "86c185ce",
   "metadata": {},
   "source": [
    "Do Not Email "
   ]
  },
  {
   "cell_type": "code",
   "execution_count": 13,
   "id": "250a3fbd",
   "metadata": {},
   "outputs": [
    {
     "data": {
      "text/plain": [
       "count     9240\n",
       "unique       2\n",
       "top         No\n",
       "freq      8506\n",
       "Name: Do Not Email, dtype: object"
      ]
     },
     "execution_count": 13,
     "metadata": {},
     "output_type": "execute_result"
    }
   ],
   "source": [
    "df[\"Do Not Email\"].describe() \n",
    "#drop\n",
    "#It looks like for many of the variable here, one of the level is highly dominant and the other has almost no contribution. These variable are not useful for the model, so we can drop them."
   ]
  },
  {
   "cell_type": "markdown",
   "id": "ab4d2d31",
   "metadata": {},
   "source": [
    "Do Not Call "
   ]
  },
  {
   "cell_type": "code",
   "execution_count": 14,
   "id": "f101ae3c",
   "metadata": {},
   "outputs": [
    {
     "data": {
      "text/plain": [
       "count     9240\n",
       "unique       2\n",
       "top         No\n",
       "freq      9238\n",
       "Name: Do Not Call, dtype: object"
      ]
     },
     "execution_count": 14,
     "metadata": {},
     "output_type": "execute_result"
    }
   ],
   "source": [
    "df[\"Do Not Call\"].describe() \n",
    "#drop \n",
    "#It looks like f"
   ]
  },
  {
   "cell_type": "markdown",
   "id": "7a9b22b4",
   "metadata": {},
   "source": [
    "TotalVisits"
   ]
  },
  {
   "cell_type": "code",
   "execution_count": 15,
   "id": "95e7b910",
   "metadata": {},
   "outputs": [
    {
     "data": {
      "text/plain": [
       "count    9103.000000\n",
       "mean        3.445238\n",
       "std         4.854853\n",
       "min         0.000000\n",
       "25%         1.000000\n",
       "50%         3.000000\n",
       "75%         5.000000\n",
       "max       251.000000\n",
       "Name: TotalVisits, dtype: float64"
      ]
     },
     "execution_count": 15,
     "metadata": {},
     "output_type": "execute_result"
    }
   ],
   "source": [
    "df[\"TotalVisits\"].describe() "
   ]
  },
  {
   "cell_type": "code",
   "execution_count": 16,
   "id": "20ed4363",
   "metadata": {},
   "outputs": [],
   "source": [
    "#imputing median value\n",
    "df['TotalVisits'].fillna(df['TotalVisits'].median(), inplace = True)"
   ]
  },
  {
   "cell_type": "markdown",
   "id": "b6c2598e",
   "metadata": {},
   "source": [
    "Total Time Spent on Website"
   ]
  },
  {
   "cell_type": "code",
   "execution_count": 17,
   "id": "2a1c3699",
   "metadata": {},
   "outputs": [
    {
     "data": {
      "text/plain": [
       "count    9240.000000\n",
       "mean      487.698268\n",
       "std       548.021466\n",
       "min         0.000000\n",
       "25%        12.000000\n",
       "50%       248.000000\n",
       "75%       936.000000\n",
       "max      2272.000000\n",
       "Name: Total Time Spent on Website, dtype: float64"
      ]
     },
     "execution_count": 17,
     "metadata": {},
     "output_type": "execute_result"
    }
   ],
   "source": [
    "df[\"Total Time Spent on Website\"].describe() "
   ]
  },
  {
   "cell_type": "markdown",
   "id": "a877faee",
   "metadata": {},
   "source": [
    "Page Views Per Visit "
   ]
  },
  {
   "cell_type": "code",
   "execution_count": 18,
   "id": "401b4ac8",
   "metadata": {},
   "outputs": [
    {
     "data": {
      "text/plain": [
       "count    9103.000000\n",
       "mean        2.362820\n",
       "std         2.161418\n",
       "min         0.000000\n",
       "25%         1.000000\n",
       "50%         2.000000\n",
       "75%         3.000000\n",
       "max        55.000000\n",
       "Name: Page Views Per Visit, dtype: float64"
      ]
     },
     "execution_count": 18,
     "metadata": {},
     "output_type": "execute_result"
    }
   ],
   "source": [
    "df[\"Page Views Per Visit\"].describe()"
   ]
  },
  {
   "cell_type": "code",
   "execution_count": 19,
   "id": "3baad1c4",
   "metadata": {},
   "outputs": [],
   "source": [
    "#imputing median value\n",
    "df['Page Views Per Visit'].fillna(df['Page Views Per Visit'].median(), inplace = True)"
   ]
  },
  {
   "cell_type": "markdown",
   "id": "66bd060d",
   "metadata": {},
   "source": [
    "Last Activity"
   ]
  },
  {
   "cell_type": "code",
   "execution_count": 20,
   "id": "76e53df3",
   "metadata": {},
   "outputs": [
    {
     "data": {
      "text/plain": [
       "count             9137\n",
       "unique              17\n",
       "top       Email Opened\n",
       "freq              3437\n",
       "Name: Last Activity, dtype: object"
      ]
     },
     "execution_count": 20,
     "metadata": {},
     "output_type": "execute_result"
    }
   ],
   "source": [
    "df[\"Last Activity\"].describe()"
   ]
  },
  {
   "cell_type": "code",
   "execution_count": 21,
   "id": "4ce98402",
   "metadata": {},
   "outputs": [],
   "source": [
    "#imputing most frequent level\n",
    "df[\"Last Activity\"].fillna(\"Email Opened\", inplace = True)"
   ]
  },
  {
   "cell_type": "markdown",
   "id": "b191085a",
   "metadata": {},
   "source": [
    "Country"
   ]
  },
  {
   "cell_type": "code",
   "execution_count": 22,
   "id": "f2314540",
   "metadata": {},
   "outputs": [
    {
     "data": {
      "text/plain": [
       "count      9240\n",
       "unique       38\n",
       "top       India\n",
       "freq       8953\n",
       "Name: Country, dtype: object"
      ]
     },
     "execution_count": 22,
     "metadata": {},
     "output_type": "execute_result"
    }
   ],
   "source": [
    "df[\"Country\"].describe() \n",
    "#drop "
   ]
  },
  {
   "cell_type": "markdown",
   "id": "a16d8dac",
   "metadata": {},
   "source": [
    "Specialization "
   ]
  },
  {
   "cell_type": "code",
   "execution_count": 23,
   "id": "08f45f19",
   "metadata": {},
   "outputs": [
    {
     "data": {
      "text/plain": [
       "count       9240\n",
       "unique        19\n",
       "top       Others\n",
       "freq        3380\n",
       "Name: Specialization, dtype: object"
      ]
     },
     "execution_count": 23,
     "metadata": {},
     "output_type": "execute_result"
    }
   ],
   "source": [
    "df[\"Specialization\"].describe() "
   ]
  },
  {
   "cell_type": "markdown",
   "id": "9ccba53c",
   "metadata": {},
   "source": [
    "What is your current occupation"
   ]
  },
  {
   "cell_type": "code",
   "execution_count": 24,
   "id": "bb056828",
   "metadata": {},
   "outputs": [
    {
     "data": {
      "text/plain": [
       "count           9240\n",
       "unique             6\n",
       "top       Unemployed\n",
       "freq            8290\n",
       "Name: What is your current occupation, dtype: object"
      ]
     },
     "execution_count": 24,
     "metadata": {},
     "output_type": "execute_result"
    }
   ],
   "source": [
    "df[\"What is your current occupation\"].describe() \n",
    "#drop"
   ]
  },
  {
   "cell_type": "markdown",
   "id": "3d9c3175",
   "metadata": {},
   "source": [
    "What matters most to you in choosing a course  "
   ]
  },
  {
   "cell_type": "code",
   "execution_count": 25,
   "id": "794b9bb7",
   "metadata": {},
   "outputs": [
    {
     "data": {
      "text/plain": [
       "count                        6531\n",
       "unique                          3\n",
       "top       Better Career Prospects\n",
       "freq                         6528\n",
       "Name: What matters most to you in choosing a course, dtype: object"
      ]
     },
     "execution_count": 25,
     "metadata": {},
     "output_type": "execute_result"
    }
   ],
   "source": [
    "df[\"What matters most to you in choosing a course\"].describe()   \n",
    "#drop"
   ]
  },
  {
   "cell_type": "markdown",
   "id": "6414c441",
   "metadata": {},
   "source": [
    "Search"
   ]
  },
  {
   "cell_type": "code",
   "execution_count": 26,
   "id": "9b06dc77",
   "metadata": {},
   "outputs": [
    {
     "data": {
      "text/plain": [
       "count     9240\n",
       "unique       2\n",
       "top         No\n",
       "freq      9226\n",
       "Name: Search, dtype: object"
      ]
     },
     "execution_count": 26,
     "metadata": {},
     "output_type": "execute_result"
    }
   ],
   "source": [
    "df[\"Search\"].describe()   \n",
    "#drop"
   ]
  },
  {
   "cell_type": "markdown",
   "id": "394317c0",
   "metadata": {},
   "source": [
    "Magazine"
   ]
  },
  {
   "cell_type": "code",
   "execution_count": 27,
   "id": "149b854e",
   "metadata": {},
   "outputs": [
    {
     "data": {
      "text/plain": [
       "count     9240\n",
       "unique       1\n",
       "top         No\n",
       "freq      9240\n",
       "Name: Magazine, dtype: object"
      ]
     },
     "execution_count": 27,
     "metadata": {},
     "output_type": "execute_result"
    }
   ],
   "source": [
    "df[\"Magazine\"].describe()   \n",
    "#drop "
   ]
  },
  {
   "cell_type": "markdown",
   "id": "75c9267a",
   "metadata": {},
   "source": [
    "Newspaper Article"
   ]
  },
  {
   "cell_type": "code",
   "execution_count": 28,
   "id": "acee0923",
   "metadata": {},
   "outputs": [
    {
     "data": {
      "text/plain": [
       "count     9240\n",
       "unique       2\n",
       "top         No\n",
       "freq      9238\n",
       "Name: Newspaper Article, dtype: object"
      ]
     },
     "execution_count": 28,
     "metadata": {},
     "output_type": "execute_result"
    }
   ],
   "source": [
    "df[\"Newspaper Article\"].describe()   \n",
    "#drop"
   ]
  },
  {
   "cell_type": "markdown",
   "id": "b665737b",
   "metadata": {},
   "source": [
    "X Education Forums"
   ]
  },
  {
   "cell_type": "code",
   "execution_count": 29,
   "id": "5d4b92b9",
   "metadata": {},
   "outputs": [
    {
     "data": {
      "text/plain": [
       "count     9240\n",
       "unique       2\n",
       "top         No\n",
       "freq      9239\n",
       "Name: X Education Forums, dtype: object"
      ]
     },
     "execution_count": 29,
     "metadata": {},
     "output_type": "execute_result"
    }
   ],
   "source": [
    "df[\"X Education Forums\"].describe()   \n",
    "#drop"
   ]
  },
  {
   "cell_type": "markdown",
   "id": "6b2d0966",
   "metadata": {},
   "source": [
    "Newspaper"
   ]
  },
  {
   "cell_type": "code",
   "execution_count": 30,
   "id": "13eb2afb",
   "metadata": {},
   "outputs": [
    {
     "data": {
      "text/plain": [
       "count     9240\n",
       "unique       2\n",
       "top         No\n",
       "freq      9239\n",
       "Name: Newspaper, dtype: object"
      ]
     },
     "execution_count": 30,
     "metadata": {},
     "output_type": "execute_result"
    }
   ],
   "source": [
    "df[\"Newspaper\"].describe()   \n",
    "#drop"
   ]
  },
  {
   "cell_type": "markdown",
   "id": "81042a83",
   "metadata": {},
   "source": [
    "Digital Advertisement"
   ]
  },
  {
   "cell_type": "code",
   "execution_count": 31,
   "id": "ffae72b8",
   "metadata": {},
   "outputs": [
    {
     "data": {
      "text/plain": [
       "count     9240\n",
       "unique       2\n",
       "top         No\n",
       "freq      9236\n",
       "Name: Digital Advertisement, dtype: object"
      ]
     },
     "execution_count": 31,
     "metadata": {},
     "output_type": "execute_result"
    }
   ],
   "source": [
    "df[\"Digital Advertisement\"].describe()   \n",
    "#drop"
   ]
  },
  {
   "cell_type": "markdown",
   "id": "5b09fe05",
   "metadata": {},
   "source": [
    "Through Recommendation"
   ]
  },
  {
   "cell_type": "code",
   "execution_count": 32,
   "id": "ac4eae5e",
   "metadata": {},
   "outputs": [
    {
     "data": {
      "text/plain": [
       "count     9240\n",
       "unique       2\n",
       "top         No\n",
       "freq      9233\n",
       "Name: Through Recommendations, dtype: object"
      ]
     },
     "execution_count": 32,
     "metadata": {},
     "output_type": "execute_result"
    }
   ],
   "source": [
    "df[\"Through Recommendations\"].describe()   \n",
    "#drop "
   ]
  },
  {
   "cell_type": "markdown",
   "id": "15ea418a",
   "metadata": {},
   "source": [
    "Receive More Updates About Our Courses"
   ]
  },
  {
   "cell_type": "code",
   "execution_count": 33,
   "id": "c866792d",
   "metadata": {},
   "outputs": [
    {
     "data": {
      "text/plain": [
       "count     9240\n",
       "unique       1\n",
       "top         No\n",
       "freq      9240\n",
       "Name: Receive More Updates About Our Courses, dtype: object"
      ]
     },
     "execution_count": 33,
     "metadata": {},
     "output_type": "execute_result"
    }
   ],
   "source": [
    "df[\"Receive More Updates About Our Courses\"].describe()   \n",
    "#drop"
   ]
  },
  {
   "cell_type": "markdown",
   "id": "65299b96",
   "metadata": {},
   "source": [
    "Tags"
   ]
  },
  {
   "cell_type": "code",
   "execution_count": 34,
   "id": "bda8f3d2",
   "metadata": {},
   "outputs": [
    {
     "data": {
      "text/plain": [
       "count                                    9240\n",
       "unique                                     26\n",
       "top       Will revert after reading the email\n",
       "freq                                     5425\n",
       "Name: Tags, dtype: object"
      ]
     },
     "execution_count": 34,
     "metadata": {},
     "output_type": "execute_result"
    }
   ],
   "source": [
    "df[\"Tags\"].describe()   "
   ]
  },
  {
   "cell_type": "markdown",
   "id": "ace50193",
   "metadata": {},
   "source": [
    "Lead Quality"
   ]
  },
  {
   "cell_type": "code",
   "execution_count": 35,
   "id": "7716c988",
   "metadata": {},
   "outputs": [
    {
     "data": {
      "text/plain": [
       "count         9240\n",
       "unique           5\n",
       "top       Not Sure\n",
       "freq          5859\n",
       "Name: Lead Quality, dtype: object"
      ]
     },
     "execution_count": 35,
     "metadata": {},
     "output_type": "execute_result"
    }
   ],
   "source": [
    "df[\"Lead Quality\"].describe()   "
   ]
  },
  {
   "cell_type": "markdown",
   "id": "09e1469e",
   "metadata": {},
   "source": [
    "Update me on Supply Chain Content"
   ]
  },
  {
   "cell_type": "code",
   "execution_count": 36,
   "id": "f8562879",
   "metadata": {},
   "outputs": [
    {
     "data": {
      "text/plain": [
       "count     9240\n",
       "unique       1\n",
       "top         No\n",
       "freq      9240\n",
       "Name: Update me on Supply Chain Content, dtype: object"
      ]
     },
     "execution_count": 36,
     "metadata": {},
     "output_type": "execute_result"
    }
   ],
   "source": [
    "df[\"Update me on Supply Chain Content\"].describe()   \n",
    "#drop"
   ]
  },
  {
   "cell_type": "markdown",
   "id": "acf924e9",
   "metadata": {},
   "source": [
    "Get updates on DM Content"
   ]
  },
  {
   "cell_type": "code",
   "execution_count": 37,
   "id": "d4255a3a",
   "metadata": {},
   "outputs": [
    {
     "data": {
      "text/plain": [
       "count     9240\n",
       "unique       1\n",
       "top         No\n",
       "freq      9240\n",
       "Name: Get updates on DM Content, dtype: object"
      ]
     },
     "execution_count": 37,
     "metadata": {},
     "output_type": "execute_result"
    }
   ],
   "source": [
    "df[\"Get updates on DM Content\"].describe()   \n",
    "#drop"
   ]
  },
  {
   "cell_type": "markdown",
   "id": "200d855f",
   "metadata": {},
   "source": [
    "City"
   ]
  },
  {
   "cell_type": "code",
   "execution_count": 38,
   "id": "effffd14",
   "metadata": {},
   "outputs": [
    {
     "data": {
      "text/plain": [
       "count       5571\n",
       "unique         6\n",
       "top       Mumbai\n",
       "freq        3222\n",
       "Name: City, dtype: object"
      ]
     },
     "execution_count": 38,
     "metadata": {},
     "output_type": "execute_result"
    }
   ],
   "source": [
    "df[\"City\"].describe()   "
   ]
  },
  {
   "cell_type": "code",
   "execution_count": 39,
   "id": "420ef349",
   "metadata": {},
   "outputs": [],
   "source": [
    "#imputing most frequent level\n",
    "df[\"City\"].fillna(\"Mumbai\", inplace = True)"
   ]
  },
  {
   "cell_type": "markdown",
   "id": "d1260627",
   "metadata": {},
   "source": [
    "I agree to pay the amount through cheque"
   ]
  },
  {
   "cell_type": "code",
   "execution_count": 40,
   "id": "cff50560",
   "metadata": {},
   "outputs": [
    {
     "data": {
      "text/plain": [
       "count     9240\n",
       "unique       1\n",
       "top         No\n",
       "freq      9240\n",
       "Name: I agree to pay the amount through cheque, dtype: object"
      ]
     },
     "execution_count": 40,
     "metadata": {},
     "output_type": "execute_result"
    }
   ],
   "source": [
    "df[\"I agree to pay the amount through cheque\"].describe()   \n",
    "#drop "
   ]
  },
  {
   "cell_type": "markdown",
   "id": "d59e1107",
   "metadata": {},
   "source": [
    "A free copy of Mastering The Interview"
   ]
  },
  {
   "cell_type": "code",
   "execution_count": 41,
   "id": "aaddf1c5",
   "metadata": {},
   "outputs": [
    {
     "data": {
      "text/plain": [
       "count     9240\n",
       "unique       2\n",
       "top         No\n",
       "freq      6352\n",
       "Name: A free copy of Mastering The Interview, dtype: object"
      ]
     },
     "execution_count": 41,
     "metadata": {},
     "output_type": "execute_result"
    }
   ],
   "source": [
    "df[\"A free copy of Mastering The Interview\"].describe()"
   ]
  },
  {
   "cell_type": "markdown",
   "id": "2c84f803",
   "metadata": {},
   "source": [
    "Last Notable Activity"
   ]
  },
  {
   "cell_type": "code",
   "execution_count": 42,
   "id": "006ee6d6",
   "metadata": {},
   "outputs": [
    {
     "data": {
      "text/plain": [
       "count         9240\n",
       "unique          16\n",
       "top       Modified\n",
       "freq          3407\n",
       "Name: Last Notable Activity, dtype: object"
      ]
     },
     "execution_count": 42,
     "metadata": {},
     "output_type": "execute_result"
    }
   ],
   "source": [
    "df[\"Last Notable Activity\"].describe()"
   ]
  },
  {
   "cell_type": "code",
   "execution_count": 43,
   "id": "9504f8f9",
   "metadata": {},
   "outputs": [],
   "source": [
    "df=df.drop([\"Do Not Email\",\"Do Not Call\",\"Country\",\"What is your current occupation\", \n",
    "         \"What matters most to you in choosing a course\",\"Search\",\"Magazine\",\n",
    "        \"Newspaper Article\",\"X Education Forums\",\"Newspaper\",\"Digital Advertisement\",\"Through Recommendations\",\n",
    "         \"Receive More Updates About Our Courses\",\"Update me on Supply Chain Content\",\n",
    "         \"Get updates on DM Content\",\"I agree to pay the amount through cheque\"], axis=1)"
   ]
  },
  {
   "cell_type": "code",
   "execution_count": 44,
   "id": "12643b9e",
   "metadata": {},
   "outputs": [
    {
     "data": {
      "text/plain": [
       "(9240, 14)"
      ]
     },
     "execution_count": 44,
     "metadata": {},
     "output_type": "execute_result"
    }
   ],
   "source": [
    "df.shape"
   ]
  },
  {
   "cell_type": "code",
   "execution_count": 45,
   "id": "6192d9b5",
   "metadata": {},
   "outputs": [
    {
     "data": {
      "text/plain": [
       "Lead Number                               0.0\n",
       "Lead Origin                               0.0\n",
       "Lead Source                               0.0\n",
       "Converted                                 0.0\n",
       "TotalVisits                               0.0\n",
       "Total Time Spent on Website               0.0\n",
       "Page Views Per Visit                      0.0\n",
       "Last Activity                             0.0\n",
       "Specialization                            0.0\n",
       "Tags                                      0.0\n",
       "Lead Quality                              0.0\n",
       "City                                      0.0\n",
       "A free copy of Mastering The Interview    0.0\n",
       "Last Notable Activity                     0.0\n",
       "dtype: float64"
      ]
     },
     "execution_count": 45,
     "metadata": {},
     "output_type": "execute_result"
    }
   ],
   "source": [
    "round((df.isnull().sum()/df.shape[0]*100), 2)"
   ]
  },
  {
   "cell_type": "code",
   "execution_count": null,
   "id": "2701dfea",
   "metadata": {},
   "outputs": [],
   "source": []
  },
  {
   "cell_type": "code",
   "execution_count": 46,
   "id": "5d62cc17",
   "metadata": {},
   "outputs": [
    {
     "data": {
      "text/html": [
       "<div>\n",
       "<style scoped>\n",
       "    .dataframe tbody tr th:only-of-type {\n",
       "        vertical-align: middle;\n",
       "    }\n",
       "\n",
       "    .dataframe tbody tr th {\n",
       "        vertical-align: top;\n",
       "    }\n",
       "\n",
       "    .dataframe thead th {\n",
       "        text-align: right;\n",
       "    }\n",
       "</style>\n",
       "<table border=\"1\" class=\"dataframe\">\n",
       "  <thead>\n",
       "    <tr style=\"text-align: right;\">\n",
       "      <th></th>\n",
       "      <th>Lead Number</th>\n",
       "      <th>Lead Origin</th>\n",
       "      <th>Lead Source</th>\n",
       "      <th>Converted</th>\n",
       "      <th>TotalVisits</th>\n",
       "      <th>Total Time Spent on Website</th>\n",
       "      <th>Page Views Per Visit</th>\n",
       "      <th>Last Activity</th>\n",
       "      <th>Specialization</th>\n",
       "      <th>Tags</th>\n",
       "      <th>Lead Quality</th>\n",
       "      <th>City</th>\n",
       "      <th>A free copy of Mastering The Interview</th>\n",
       "      <th>Last Notable Activity</th>\n",
       "    </tr>\n",
       "  </thead>\n",
       "  <tbody>\n",
       "    <tr>\n",
       "      <th>0</th>\n",
       "      <td>660737</td>\n",
       "      <td>API</td>\n",
       "      <td>Olark Chat</td>\n",
       "      <td>0</td>\n",
       "      <td>0.0</td>\n",
       "      <td>0</td>\n",
       "      <td>0.0</td>\n",
       "      <td>Page Visited on Website</td>\n",
       "      <td>Others</td>\n",
       "      <td>Interested in other courses</td>\n",
       "      <td>Low in Relevance</td>\n",
       "      <td>Mumbai</td>\n",
       "      <td>No</td>\n",
       "      <td>Modified</td>\n",
       "    </tr>\n",
       "    <tr>\n",
       "      <th>1</th>\n",
       "      <td>660728</td>\n",
       "      <td>API</td>\n",
       "      <td>Organic Search</td>\n",
       "      <td>0</td>\n",
       "      <td>5.0</td>\n",
       "      <td>674</td>\n",
       "      <td>2.5</td>\n",
       "      <td>Email Opened</td>\n",
       "      <td>Others</td>\n",
       "      <td>Ringing</td>\n",
       "      <td>Not Sure</td>\n",
       "      <td>Mumbai</td>\n",
       "      <td>No</td>\n",
       "      <td>Email Opened</td>\n",
       "    </tr>\n",
       "    <tr>\n",
       "      <th>2</th>\n",
       "      <td>660727</td>\n",
       "      <td>Landing Page Submission</td>\n",
       "      <td>Direct Traffic</td>\n",
       "      <td>1</td>\n",
       "      <td>2.0</td>\n",
       "      <td>1532</td>\n",
       "      <td>2.0</td>\n",
       "      <td>Email Opened</td>\n",
       "      <td>Business Administration</td>\n",
       "      <td>Will revert after reading the email</td>\n",
       "      <td>Might be</td>\n",
       "      <td>Mumbai</td>\n",
       "      <td>Yes</td>\n",
       "      <td>Email Opened</td>\n",
       "    </tr>\n",
       "    <tr>\n",
       "      <th>3</th>\n",
       "      <td>660719</td>\n",
       "      <td>Landing Page Submission</td>\n",
       "      <td>Direct Traffic</td>\n",
       "      <td>0</td>\n",
       "      <td>1.0</td>\n",
       "      <td>305</td>\n",
       "      <td>1.0</td>\n",
       "      <td>Unreachable</td>\n",
       "      <td>Media and Advertising</td>\n",
       "      <td>Ringing</td>\n",
       "      <td>Not Sure</td>\n",
       "      <td>Mumbai</td>\n",
       "      <td>No</td>\n",
       "      <td>Modified</td>\n",
       "    </tr>\n",
       "    <tr>\n",
       "      <th>4</th>\n",
       "      <td>660681</td>\n",
       "      <td>Landing Page Submission</td>\n",
       "      <td>Google</td>\n",
       "      <td>1</td>\n",
       "      <td>2.0</td>\n",
       "      <td>1428</td>\n",
       "      <td>1.0</td>\n",
       "      <td>Converted to Lead</td>\n",
       "      <td>Others</td>\n",
       "      <td>Will revert after reading the email</td>\n",
       "      <td>Might be</td>\n",
       "      <td>Mumbai</td>\n",
       "      <td>No</td>\n",
       "      <td>Modified</td>\n",
       "    </tr>\n",
       "  </tbody>\n",
       "</table>\n",
       "</div>"
      ],
      "text/plain": [
       "   Lead Number              Lead Origin     Lead Source  Converted  \\\n",
       "0       660737                      API      Olark Chat          0   \n",
       "1       660728                      API  Organic Search          0   \n",
       "2       660727  Landing Page Submission  Direct Traffic          1   \n",
       "3       660719  Landing Page Submission  Direct Traffic          0   \n",
       "4       660681  Landing Page Submission          Google          1   \n",
       "\n",
       "   TotalVisits  Total Time Spent on Website  Page Views Per Visit  \\\n",
       "0          0.0                            0                   0.0   \n",
       "1          5.0                          674                   2.5   \n",
       "2          2.0                         1532                   2.0   \n",
       "3          1.0                          305                   1.0   \n",
       "4          2.0                         1428                   1.0   \n",
       "\n",
       "             Last Activity           Specialization  \\\n",
       "0  Page Visited on Website                   Others   \n",
       "1             Email Opened                   Others   \n",
       "2             Email Opened  Business Administration   \n",
       "3              Unreachable    Media and Advertising   \n",
       "4        Converted to Lead                   Others   \n",
       "\n",
       "                                  Tags      Lead Quality    City  \\\n",
       "0          Interested in other courses  Low in Relevance  Mumbai   \n",
       "1                              Ringing          Not Sure  Mumbai   \n",
       "2  Will revert after reading the email          Might be  Mumbai   \n",
       "3                              Ringing          Not Sure  Mumbai   \n",
       "4  Will revert after reading the email          Might be  Mumbai   \n",
       "\n",
       "  A free copy of Mastering The Interview Last Notable Activity  \n",
       "0                                     No              Modified  \n",
       "1                                     No          Email Opened  \n",
       "2                                    Yes          Email Opened  \n",
       "3                                     No              Modified  \n",
       "4                                     No              Modified  "
      ]
     },
     "execution_count": 46,
     "metadata": {},
     "output_type": "execute_result"
    }
   ],
   "source": [
    "df.head(5)"
   ]
  },
  {
   "cell_type": "code",
   "execution_count": 47,
   "id": "1638ecc4",
   "metadata": {},
   "outputs": [],
   "source": [
    "df[\"A free copy of Mastering The Interview\"] = df[\"A free copy of Mastering The Interview\"].map({'Yes': 1, \"No\": 0})"
   ]
  },
  {
   "cell_type": "code",
   "execution_count": 48,
   "id": "e96b100d",
   "metadata": {},
   "outputs": [],
   "source": [
    "#Creating Dummy Indicator columns with prefix\n",
    "df=pd.get_dummies(df, columns=['Lead Origin'], prefix=\"LeadOrigin_\")\n",
    "df=pd.get_dummies(df, columns=['Lead Source'], prefix=\"LeadSource_\")\n",
    "df=pd.get_dummies(df, columns=['Last Activity'], prefix=\"LastActivity_\")\n",
    "df=pd.get_dummies(df, columns=['Specialization'], prefix=\"Specialization_\")\n",
    "df=pd.get_dummies(df, columns=['Tags'], prefix=\"Tags_\")\n",
    "df=pd.get_dummies(df, columns=['Lead Quality'], prefix=\"LeadQuality_\")\n",
    "df=pd.get_dummies(df, columns=['City'], prefix=\"City_\")\n",
    "df=pd.get_dummies(df, columns=['Last Notable Activity'], prefix=\"LastNotableActivity_\")\n"
   ]
  },
  {
   "cell_type": "code",
   "execution_count": 49,
   "id": "72ae8fb1",
   "metadata": {},
   "outputs": [
    {
     "data": {
      "text/html": [
       "<div>\n",
       "<style scoped>\n",
       "    .dataframe tbody tr th:only-of-type {\n",
       "        vertical-align: middle;\n",
       "    }\n",
       "\n",
       "    .dataframe tbody tr th {\n",
       "        vertical-align: top;\n",
       "    }\n",
       "\n",
       "    .dataframe thead th {\n",
       "        text-align: right;\n",
       "    }\n",
       "</style>\n",
       "<table border=\"1\" class=\"dataframe\">\n",
       "  <thead>\n",
       "    <tr style=\"text-align: right;\">\n",
       "      <th></th>\n",
       "      <th>Lead Number</th>\n",
       "      <th>Converted</th>\n",
       "      <th>TotalVisits</th>\n",
       "      <th>Total Time Spent on Website</th>\n",
       "      <th>Page Views Per Visit</th>\n",
       "      <th>A free copy of Mastering The Interview</th>\n",
       "      <th>LeadOrigin__API</th>\n",
       "      <th>LeadOrigin__Landing Page Submission</th>\n",
       "      <th>LeadOrigin__Lead Add Form</th>\n",
       "      <th>LeadOrigin__Lead Import</th>\n",
       "      <th>...</th>\n",
       "      <th>LastNotableActivity__Form Submitted on Website</th>\n",
       "      <th>LastNotableActivity__Had a Phone Conversation</th>\n",
       "      <th>LastNotableActivity__Modified</th>\n",
       "      <th>LastNotableActivity__Olark Chat Conversation</th>\n",
       "      <th>LastNotableActivity__Page Visited on Website</th>\n",
       "      <th>LastNotableActivity__Resubscribed to emails</th>\n",
       "      <th>LastNotableActivity__SMS Sent</th>\n",
       "      <th>LastNotableActivity__Unreachable</th>\n",
       "      <th>LastNotableActivity__Unsubscribed</th>\n",
       "      <th>LastNotableActivity__View in browser link Clicked</th>\n",
       "    </tr>\n",
       "  </thead>\n",
       "  <tbody>\n",
       "    <tr>\n",
       "      <th>0</th>\n",
       "      <td>660737</td>\n",
       "      <td>0</td>\n",
       "      <td>0.0</td>\n",
       "      <td>0</td>\n",
       "      <td>0.0</td>\n",
       "      <td>0</td>\n",
       "      <td>1</td>\n",
       "      <td>0</td>\n",
       "      <td>0</td>\n",
       "      <td>0</td>\n",
       "      <td>...</td>\n",
       "      <td>0</td>\n",
       "      <td>0</td>\n",
       "      <td>1</td>\n",
       "      <td>0</td>\n",
       "      <td>0</td>\n",
       "      <td>0</td>\n",
       "      <td>0</td>\n",
       "      <td>0</td>\n",
       "      <td>0</td>\n",
       "      <td>0</td>\n",
       "    </tr>\n",
       "    <tr>\n",
       "      <th>1</th>\n",
       "      <td>660728</td>\n",
       "      <td>0</td>\n",
       "      <td>5.0</td>\n",
       "      <td>674</td>\n",
       "      <td>2.5</td>\n",
       "      <td>0</td>\n",
       "      <td>1</td>\n",
       "      <td>0</td>\n",
       "      <td>0</td>\n",
       "      <td>0</td>\n",
       "      <td>...</td>\n",
       "      <td>0</td>\n",
       "      <td>0</td>\n",
       "      <td>0</td>\n",
       "      <td>0</td>\n",
       "      <td>0</td>\n",
       "      <td>0</td>\n",
       "      <td>0</td>\n",
       "      <td>0</td>\n",
       "      <td>0</td>\n",
       "      <td>0</td>\n",
       "    </tr>\n",
       "    <tr>\n",
       "      <th>2</th>\n",
       "      <td>660727</td>\n",
       "      <td>1</td>\n",
       "      <td>2.0</td>\n",
       "      <td>1532</td>\n",
       "      <td>2.0</td>\n",
       "      <td>1</td>\n",
       "      <td>0</td>\n",
       "      <td>1</td>\n",
       "      <td>0</td>\n",
       "      <td>0</td>\n",
       "      <td>...</td>\n",
       "      <td>0</td>\n",
       "      <td>0</td>\n",
       "      <td>0</td>\n",
       "      <td>0</td>\n",
       "      <td>0</td>\n",
       "      <td>0</td>\n",
       "      <td>0</td>\n",
       "      <td>0</td>\n",
       "      <td>0</td>\n",
       "      <td>0</td>\n",
       "    </tr>\n",
       "    <tr>\n",
       "      <th>3</th>\n",
       "      <td>660719</td>\n",
       "      <td>0</td>\n",
       "      <td>1.0</td>\n",
       "      <td>305</td>\n",
       "      <td>1.0</td>\n",
       "      <td>0</td>\n",
       "      <td>0</td>\n",
       "      <td>1</td>\n",
       "      <td>0</td>\n",
       "      <td>0</td>\n",
       "      <td>...</td>\n",
       "      <td>0</td>\n",
       "      <td>0</td>\n",
       "      <td>1</td>\n",
       "      <td>0</td>\n",
       "      <td>0</td>\n",
       "      <td>0</td>\n",
       "      <td>0</td>\n",
       "      <td>0</td>\n",
       "      <td>0</td>\n",
       "      <td>0</td>\n",
       "    </tr>\n",
       "    <tr>\n",
       "      <th>4</th>\n",
       "      <td>660681</td>\n",
       "      <td>1</td>\n",
       "      <td>2.0</td>\n",
       "      <td>1428</td>\n",
       "      <td>1.0</td>\n",
       "      <td>0</td>\n",
       "      <td>0</td>\n",
       "      <td>1</td>\n",
       "      <td>0</td>\n",
       "      <td>0</td>\n",
       "      <td>...</td>\n",
       "      <td>0</td>\n",
       "      <td>0</td>\n",
       "      <td>1</td>\n",
       "      <td>0</td>\n",
       "      <td>0</td>\n",
       "      <td>0</td>\n",
       "      <td>0</td>\n",
       "      <td>0</td>\n",
       "      <td>0</td>\n",
       "      <td>0</td>\n",
       "    </tr>\n",
       "  </tbody>\n",
       "</table>\n",
       "<p>5 rows × 121 columns</p>\n",
       "</div>"
      ],
      "text/plain": [
       "   Lead Number  Converted  TotalVisits  Total Time Spent on Website  \\\n",
       "0       660737          0          0.0                            0   \n",
       "1       660728          0          5.0                          674   \n",
       "2       660727          1          2.0                         1532   \n",
       "3       660719          0          1.0                          305   \n",
       "4       660681          1          2.0                         1428   \n",
       "\n",
       "   Page Views Per Visit  A free copy of Mastering The Interview  \\\n",
       "0                   0.0                                       0   \n",
       "1                   2.5                                       0   \n",
       "2                   2.0                                       1   \n",
       "3                   1.0                                       0   \n",
       "4                   1.0                                       0   \n",
       "\n",
       "   LeadOrigin__API  LeadOrigin__Landing Page Submission  \\\n",
       "0                1                                    0   \n",
       "1                1                                    0   \n",
       "2                0                                    1   \n",
       "3                0                                    1   \n",
       "4                0                                    1   \n",
       "\n",
       "   LeadOrigin__Lead Add Form  LeadOrigin__Lead Import  ...  \\\n",
       "0                          0                        0  ...   \n",
       "1                          0                        0  ...   \n",
       "2                          0                        0  ...   \n",
       "3                          0                        0  ...   \n",
       "4                          0                        0  ...   \n",
       "\n",
       "   LastNotableActivity__Form Submitted on Website  \\\n",
       "0                                               0   \n",
       "1                                               0   \n",
       "2                                               0   \n",
       "3                                               0   \n",
       "4                                               0   \n",
       "\n",
       "   LastNotableActivity__Had a Phone Conversation  \\\n",
       "0                                              0   \n",
       "1                                              0   \n",
       "2                                              0   \n",
       "3                                              0   \n",
       "4                                              0   \n",
       "\n",
       "   LastNotableActivity__Modified  \\\n",
       "0                              1   \n",
       "1                              0   \n",
       "2                              0   \n",
       "3                              1   \n",
       "4                              1   \n",
       "\n",
       "   LastNotableActivity__Olark Chat Conversation  \\\n",
       "0                                             0   \n",
       "1                                             0   \n",
       "2                                             0   \n",
       "3                                             0   \n",
       "4                                             0   \n",
       "\n",
       "   LastNotableActivity__Page Visited on Website  \\\n",
       "0                                             0   \n",
       "1                                             0   \n",
       "2                                             0   \n",
       "3                                             0   \n",
       "4                                             0   \n",
       "\n",
       "   LastNotableActivity__Resubscribed to emails  LastNotableActivity__SMS Sent  \\\n",
       "0                                            0                              0   \n",
       "1                                            0                              0   \n",
       "2                                            0                              0   \n",
       "3                                            0                              0   \n",
       "4                                            0                              0   \n",
       "\n",
       "   LastNotableActivity__Unreachable  LastNotableActivity__Unsubscribed  \\\n",
       "0                                 0                                  0   \n",
       "1                                 0                                  0   \n",
       "2                                 0                                  0   \n",
       "3                                 0                                  0   \n",
       "4                                 0                                  0   \n",
       "\n",
       "   LastNotableActivity__View in browser link Clicked  \n",
       "0                                                  0  \n",
       "1                                                  0  \n",
       "2                                                  0  \n",
       "3                                                  0  \n",
       "4                                                  0  \n",
       "\n",
       "[5 rows x 121 columns]"
      ]
     },
     "execution_count": 49,
     "metadata": {},
     "output_type": "execute_result"
    }
   ],
   "source": [
    "df.head()"
   ]
  },
  {
   "cell_type": "code",
   "execution_count": 50,
   "id": "8655b4f2",
   "metadata": {},
   "outputs": [
    {
     "data": {
      "text/plain": [
       "(9240, 121)"
      ]
     },
     "execution_count": 50,
     "metadata": {},
     "output_type": "execute_result"
    }
   ],
   "source": [
    "df.shape"
   ]
  },
  {
   "cell_type": "markdown",
   "id": "6f9c39ec",
   "metadata": {},
   "source": [
    "model"
   ]
  },
  {
   "cell_type": "code",
   "execution_count": null,
   "id": "6a08ffb1",
   "metadata": {},
   "outputs": [],
   "source": []
  }
 ],
 "metadata": {
  "kernelspec": {
   "display_name": "Python 3 (ipykernel)",
   "language": "python",
   "name": "python3"
  },
  "language_info": {
   "codemirror_mode": {
    "name": "ipython",
    "version": 3
   },
   "file_extension": ".py",
   "mimetype": "text/x-python",
   "name": "python",
   "nbconvert_exporter": "python",
   "pygments_lexer": "ipython3",
   "version": "3.9.13"
  }
 },
 "nbformat": 4,
 "nbformat_minor": 5
}
